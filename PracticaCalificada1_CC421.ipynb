{
  "nbformat": 4,
  "nbformat_minor": 5,
  "metadata": {
    "kernelspec": {
      "display_name": "Python 3",
      "language": "python",
      "name": "python3"
    },
    "language_info": {
      "codemirror_mode": {
        "name": "ipython",
        "version": 3
      },
      "file_extension": ".py",
      "mimetype": "text/x-python",
      "name": "python",
      "nbconvert_exporter": "python",
      "pygments_lexer": "ipython3",
      "version": "3.8.8"
    },
    "colab": {
      "name": "PracticaCalificada1-CC421.ipynb",
      "provenance": [],
      "include_colab_link": true
    }
  },
  "cells": [
    {
      "cell_type": "markdown",
      "metadata": {
        "id": "view-in-github",
        "colab_type": "text"
      },
      "source": [
        "<a href=\"https://colab.research.google.com/github/ClismanJesus/hello-world/blob/main/PracticaCalificada1_CC421.ipynb\" target=\"_parent\"><img src=\"https://colab.research.google.com/assets/colab-badge.svg\" alt=\"Open In Colab\"/></a>"
      ]
    },
    {
      "cell_type": "markdown",
      "metadata": {
        "id": "L9p2i3mEKTOQ"
      },
      "source": [
        "## Curso de Inteligencia Artificial\n",
        "\n",
        "### Práctica Calificada 1\n",
        "\n",
        "Normas:\n",
        "\n",
        "* Presenta un documento PDF con todas tus respuestas. No se aceptan otros formatos ni archivos zipeados.\n",
        "\n",
        "* Completa todos los ítem de lo contrario la pregunta no será contabilizada. \n",
        "\n",
        "* Evita copiar los resultados de otras fuentes y explica tus respuestas."
      ],
      "id": "L9p2i3mEKTOQ"
    },
    {
      "cell_type": "markdown",
      "metadata": {
        "id": "JN5-D46OKTOa"
      },
      "source": [
        "#### Pregunta 1\n",
        "\n",
        "Resuelve el siguiente caso con la ayuda de una prueba de resolución: `Si un delincuente tenía un cómplice, entonces venía en un automóvil. El criminal no tenía cómplice y no tenía la llave, o tenía la llave y un cómplice. El criminal tenía la llave. ¿Vino el criminal en automovil o no?. "
      ],
      "id": "JN5-D46OKTOa"
    },
    {
      "cell_type": "markdown",
      "metadata": {
        "id": "q5xfLdWDKxBO"
      },
      "source": [
        "\n",
        "---\n",
        "\n",
        "\n",
        "---\n",
        "\n",
        "\n",
        "\n",
        "***Solucion:***\n",
        "\n",
        "Realizamos los pasos aprendidos en clase:\n",
        " \n",
        "*   **Formalización: Sea las proposiciones:**\n",
        "\n",
        "\n",
        "\n",
        "```\n",
        "P : El criminal tiene un cómplice\n",
        "\n",
        "Q : Él viene en automóvil\n",
        "\n",
        "R : El criminal tiene una llave\n",
        "```\n",
        "\n",
        "Obtenemos la siguiente expresión lógica formalizado de la siguiente forma:\n",
        "\n",
        "\n",
        "$(P \\Longrightarrow Q ) \\land [(\\neg P \\land \\neg R)\\lor(R \\land P)]\\land R$\n",
        "\n",
        "\n",
        "*   **Convertir en su forma normal conjuntiva (CNF), para ello utilizamos la equivalencia, es decir:**\n",
        "\n",
        "$(A \\Longrightarrow B) \\equiv \\neg A \\lor B$\n",
        "\n",
        "Entonces en nuestra expresión obtenemos:\n",
        "\n",
        "$(P \\Longrightarrow Q ) \\equiv (\\neg P \\lor Q)$\n",
        "\n",
        "y en la siguiente expresión usamos propiedad distributiva:\n",
        "\n",
        "$[(\\neg P \\land \\neg R)\\lor(R \\land P)] \\equiv [((\\neg P \\land \\neg R)\\lor R) \\land ((\\neg P \\land \\neg R) \\lor P)]$\n",
        "\n",
        "$[(\\neg P \\land \\neg R)\\lor(R \\land P)] \\equiv [((\\neg P \\lor R) \\land ( \\neg R\\lor R) \\land ((\\neg P \\lor P) \\land (\\neg R \\lor P)]$\n",
        "\n",
        "$[(\\neg P \\land \\neg R)\\lor(R \\land P)] \\equiv (\\neg P \\lor R) \\land ( \\neg R \\lor R) \\land (\\neg P \\lor P) \\land ( \\neg R \\lor P)$\n",
        " \n",
        " Observamos que tenemos las cláusulas:\n",
        "\n",
        "$(\\neg R \\lor R)$ y $(\\neg P \\lor P)$ los cuales por el teorema $A \\lor \\neg A \\Longleftrightarrow t$ es una tutologia, con ello nuestra expresión se reduce a: $(\\neg P \\lor R) \\land ( \\neg R \\lor P)$\n",
        "\n",
        "\n",
        "Entonces nuestra base de conocimiento en su forma normal conjuntiva (CNF) queda así:\n",
        "\n",
        "$KB = (\\neg P \\lor Q) \\land (\\neg P \\lor R) \\land ( \\neg R \\lor P) \\land R$\n",
        "\n",
        "\n",
        "*   **Prueba: Utilizamos la prueba de resolución para saber si el criminal vino en auto o no:**\n",
        "\n",
        "Asignamos un índice a cada cláusula de KB:\n",
        "\n",
        "$KB \\equiv (\\neg P \\lor Q)_{1} \\land (\\neg P \\lor R)_{2} \\land ( \\neg R \\lor P)_{3} \\land R_{4}$\n",
        "\n",
        "Ahora empezamos con el procedimiento de resolución:\n",
        "\n",
        "1. Comenzamos con las cláusulas 3 y 4, completando a la cláusula 4 de la siguiente manera para dar forma a la regla de resolución:\n",
        "\n",
        "$Res(3,4) = (\\neg R \\lor P , R \\lor f)$\n",
        "\n",
        "aplicando la ley conmutativa:\n",
        "\n",
        "$Res(3,4) = \\frac{P \\lor \\neg R , R \\lor f}{P \\lor f}$ donde el resultado $P \\lor f \\equiv P$, por lo tanto:\n",
        " \n",
        "$Res(3,4): (P)_{5}$\n",
        "\n",
        "2. Como obtuvimos la cláusula P, realizamos nuevamente la regla de resolución contre 1 y 5:\n",
        "\n",
        "$Res(3,4) = (\\neg P \\lor Q , P \\lor f)$\n",
        "\n",
        "aplicando la ley conmutativa:\n",
        "\n",
        "$Res(3,4) = \\frac{\\neg P \\lor Q , P \\lor f}{Q \\lor f}$ donde el resultado $Q \\lor f \\equiv Q$, por lo tanto:\n",
        "\n",
        "$Res(1,5): (Q)_{6}$\n",
        "\n",
        "3. como aún no llegamos a la cláusula vacía no es derivable entonces aún no es contradictorio para ello agregamos $(\\neg Q)_{7}$ y para intenar demostrar que el Criminal viene en automóvil; es decir, demostrar Q, entonces usamos la regla de resolucion en las cláusulas 6 y 7:\n",
        "\n",
        "$Res(6,7) = (Q , \\neg Q)$ encontrando una cláusula vacía $Res(6,7): ()_{8}$\n",
        "\n",
        "como llegamos a la cláusula vacía hay una contradicción entonces la prueba está completa, quiere decir que: $P \\land Q \\land R$ \n",
        "\n",
        "por lo que concluimos que el **Criminal vino en automóvil.**\n",
        "\n",
        "\n",
        "\n",
        "\n"
      ],
      "id": "q5xfLdWDKxBO"
    },
    {
      "cell_type": "code",
      "metadata": {
        "id": "34F-EdYzKTOc"
      },
      "source": [
        "### Tu respuesta\n"
      ],
      "id": "34F-EdYzKTOc",
      "execution_count": null,
      "outputs": []
    },
    {
      "cell_type": "markdown",
      "metadata": {
        "id": "eMIvV5faXgc_"
      },
      "source": [
        "\n",
        "\n",
        "---\n",
        "\n",
        "\n",
        "\n",
        "---\n",
        "\n"
      ],
      "id": "eMIvV5faXgc_"
    },
    {
      "cell_type": "markdown",
      "metadata": {
        "id": "yydUwmFOKTOf"
      },
      "source": [
        "#### Pregunta 2\n",
        "\n",
        "Para el ejemplo de alarma dado en clase, calcula las siguientes probabilidades condicionales:\n",
        "\n",
        "- Calcula las probabilidades a priori $P(Al), P(J), P(M)$.\n",
        "\n",
        "- Calcula $P(M|Bur)$ usando la regla del producto, la marginación, la regla de la cadena y la independencia condicional.\n",
        "\n",
        "- Utiliza la fórmula de Bayes para calcular $P(Bur|M)$\n",
        "\n",
        "- Calcula $P(Al|J, M)$ y $P(Bur|J, M)$.\n",
        "\n",
        "- Muestra que las variables $J$ y $M$ no son independientes.\n",
        "\n",
        "- Replica el cuaderno de la librería `pgmpy`, grafica el modelo Bayesiano del ejemplo de alarma, incluyendo las CPT y la verificación del modelo (debes mostrar `True`)."
      ],
      "id": "yydUwmFOKTOf"
    },
    {
      "cell_type": "markdown",
      "metadata": {
        "id": "l_b9F6o5lRg0"
      },
      "source": [
        "\n",
        "---\n",
        "\n",
        "---\n",
        "\n",
        "**Soución:**\n",
        "\n",
        "Obtenemos los datos del libro para tener una mejor idea del problema:\n",
        "\n",
        "$P(Bur) = 0.001$\n",
        "\n",
        "$P(Ear) = 0.002$\n",
        "\n",
        "$P(J|Al) = 0.90$\n",
        "\n",
        "$P(J| \\neg Al) = 0.05$\n",
        "\n",
        "$P(M|Al) = 0.70$\n",
        "\n",
        "$P(M|\\neg Al) = 0.01$\n",
        "\n",
        "$P(Al|Bur, Ear) = 0.90$\n",
        "\n",
        "$P(Al|Bur, \\neg Ear) = 0.90$\n",
        "\n",
        "$P(Al|\\neg Bur, Ear) = 0.90$\n",
        "\n",
        "$P(Al|\\neg Bur,\\neg Ear) = 0.90$\n",
        "*   **Calcula las probabilidades a priori $P(Al), P(J), P(M)$.**\n",
        "\n",
        "  - Piden hallar $P(Al)$, para ello observamos que si sucede Bur o Ear entonces puede suceder Al, entonces para hallar $P(Al)$ dado Bur o Ear usamos marginalización:\n",
        "  \n",
        "      $P(Al) = P(Al,Bur,Ear) + P(Al,\\neg Bur,Ear) + P(Al,Bur, \\neg Ear) + P(Al,\\neg Bur,\\neg Ear)$ \n",
        "      \n",
        "      ahora por probabilidad condicional, sabemos que: $P(Al|Bur,Ear) = \\frac{P(Al,Bur,Ear)}{P(Bur,Ear)}$ entonces $P(Al,Bur,Ear) = P(Al|Bur,Ear) * P(Bur,Ear)$ de la misma forma para las siguientes expresiones obtenemos:\n",
        "\n",
        "      $P(Al) = P(Al|Bur,Ear)P(Bur,Ear) + P(Al|\\neg Bur,Ear)P(\\neg Bur,Ear) + P(Al|Bur, \\neg Ear)P(Bur,\\neg Ear) + P(Al|\\neg Bur,\\neg Ear)P(\\neg Bur,\\neg Ear)$\n",
        "      \n",
        "      Reemplazando los datos obtenemos $P(Al)$\n",
        "\n",
        "      $P(Al) = 0.95 * 0.001 * 0.002 + 0.29 * 0.999 * 0.002+0.94 * 0.001 * 0.998+0.001 * 0.999 * 0.998$\n",
        "\n",
        "      $P(Al) = 0.00252$\n",
        "\n",
        "  - Piden hallar $P(J)$, para ello observamos que si sucede $Al$ entonces puede suceder $J$, entonces para hallar $P(J)$ dado $Al$ usamos marginalización:\n",
        "  \n",
        "      $P(J) = P(J,Al) + P(J,\\neg Al)$\n",
        "      \n",
        "      por probabilidad condicional $P(J|Al) = \\frac{P(J,Al)}{P(Al)}$ entonces $P(J,Al)=P(J|Al) * P(Al)$ de la misma forma para la siguiente expresión obtenemos:\n",
        "      \n",
        "      $P(J) = P(L|Al)P(Al) + P(J|\\neg Al)P(\\neg Al)$ \n",
        "      \n",
        "      Reemplazando los datos obtenemos $P(J)$\n",
        "\n",
        "      $P(J) = 0.9 * 0.0025 + 0.05 * (1-0.0025) = 0.052$\n",
        "\n",
        "  - Piden hallar  P(M) , para ello observamos que si sucede  Al  entonces puede suceder  M , entonces para hallar  P(M)  dado  Al  usamos marginalización:\n",
        "\n",
        "      $P(M)=P(M,Al)+P(M,¬Al)$\n",
        "\n",
        "      por probabilidad condicional  $P(M|Al) = \\frac{P(M,Al)}{P(Al)}$  entonces  $P(M,Al)=P(M|Al)∗P(Al)$  de la misma forma para la siguiente expresión obtenemos:\n",
        "\n",
        "      $P(M)=P(M|Al)P(Al)+P(M|¬Al)P(¬Al)$ \n",
        "\n",
        "      Reemplazando los datos obtenemos  P(J) \n",
        "\n",
        "      $P(M) = 0.7 * 0.0025 + 0.01 * (1-0.0025) = 0.0117$\n",
        "\n",
        "*   **Calcula $P(M|Bur)$ usando la regla del producto, la marginación, la regla de la cadena y la independencia condicional**.\n",
        "\n",
        "      Por probabilidad condicional sabemos que mediante la regla del producto: \n",
        "\n",
        "    - $P(M,Bur) = P(M|Bur) * P(Bur)$ entonces,\n",
        "    \n",
        "      $P(M|Bur) = \\frac{P(M,Bur)}{P(Bur)}$ \n",
        "    \n",
        "      Por marginalización, Mary $(M)$ sucede si sucede el Alarma $(Al)$ y de la misma forma $Al$ sucede dado $Bur$ entonces:\n",
        "      \n",
        "      $P(M|Bur) = \\frac{P(M,Al,Bur) + P(M,\\neg Al,Bur)}{P(Bur)}$ \n",
        "      \n",
        "      Y por la regla de la cadena, sabemos que:\n",
        "\n",
        "      $P(M,Al,Bur) = P(M|Al) * P(Al|Bur) * P(Bur)$ y $P(M,\\neg Al,Bur) = P(M|\\neg Al) * P(\\neg Al|Bur) * P(Bur)$ \n",
        "      \n",
        "      entonces,\n",
        "\n",
        "      $P(M|Bur) = \\frac{P(M|Al)P(Al|Bur)P(Bur) + P(M|\\neg Al)P(\\neg Al|Bur)P(Bur)}{P(Bur)}$ \n",
        "      \n",
        "      simplificando $P(Bur)$\n",
        "\n",
        "      $P(M|Bur) = P(M|Al)P(Al|Bur) + P(M|\\neg Al)P(\\neg Al|Bur)$\n",
        "      \n",
        "      reemplazando los datos\n",
        "\n",
        "      $P(M|Bur) = 0.7 * 0.94002 + 0.01 * 0.05998 = 0.659$\n",
        "\n",
        "* **Utiliza la fórmula de Bayes para calcular $P(Bur|M)$** \n",
        "\n",
        "    Sabemos que el teorema de Bayes es:\n",
        "\n",
        "    - $P(Bur|M) = \\frac{P(M|Bur)P(Bur)}{P(M)}$\n",
        "    \n",
        "    pero por el ítem anterior ya se conoce el valor de $P(M|Bur) = 0.659$, entonces \n",
        "\n",
        "    $P(Bur|M) = \\frac{0.659 * 0.001}{0.0117} = 0.056$\n",
        "\n",
        "* **Calcula $P(Al|J, M)$ y $P(Bur|J, M)$.**\n",
        "\n",
        "    - Sabemos que $P(Al|J,M)$ por probabilidad condicional $P(Al|J,M) = \\frac{P(Al,J,M)}{P(J,M)}$ \n",
        "    \n",
        "    En el denominador podemos usar marginalización en $P(J,M)$ dado que $J y M$ dependen de $Al$ entonces $P(J,M) = P(Al,J,M) + P(\\neg Al,J,M)$ reemplazando en lo anterior:\n",
        "\n",
        "    $P(Al|J,M) = \\frac{P(Al,J,M)}{P(Al,J,M) + P(\\neg Al,J,M)}$ pasando a dividir el numerado al denominador obtenemos:\n",
        "\n",
        "    $P(Al|J,M) = \\frac{1}{1 + \\frac{P(\\neg Al,J,M)}{P(Al,J,M)}}$ y usando la regla de la cadena podemos obtener:\n",
        "\n",
        "    $P(Al|J,M) = \\frac{1}{1 + \\frac{P(J|\\neg Al) * P(M| \\neg Al) * P(\\neg Al)}{P(J|Al) * P(M|Al) * P(Al)}}$, reemplazando los datos obtenemos:\n",
        "\n",
        "    $P(Al|J,M) = \\frac{1}{1+\\frac{0.05 * 0.01 * 0.9975}{0.9 * 0.7 * 0.0025}} = 0.761$\n",
        "\n",
        "    - Para hallar $P(Bur|J,M)$ usamos el teorema de bayes:\n",
        "\n",
        "    $P(Bur|J,M) = \\frac{P(J,M|Bur)P(Bur)}{P(J,M)}$\n",
        "\n",
        "    entonces necesitamos hallar $P(J,M|Bur)$ y $P(J,M)$\n",
        "\n",
        "      - Empezamos con $P(J,M|Bur) = \\frac{P(J,M,Bur)}{P(Bur)}$ por marginalización esto es:\n",
        "\n",
        "        $\\frac{P(J,M,Bur)}{P(Bur)} = \\frac{P(J,M,Al,Bur) + P(J,M,\\neg Al,Bur)}{P(Bur)}$ y por la regla de la cadena:\n",
        "\n",
        "        $P(J,M|Bur) = \\frac{P(J,M,Al,Bur) + P(J,M,\\neg Al,Bur)}{P(Bur)} = \\frac{P(J,M|Al)P(Al|Bur)P(Bur) + P(J,M|\\neg Al)P(\\neg Al|Bur)P(Bur)}{P(Bur)}$ simplificando $P(Bur)$\n",
        "\n",
        "        $P(J,M|Bur) = P(J,M|Al)P(Al|Bur) + P(J,M|\\neg Al)P(\\neg Al|Bur)$ pero John (J) y Mary (M) se cumple la independencia condicional, por lo que:\n",
        "\n",
        "        $P(J,M|Bur) = P(J|Al)P(M|Al)P(Al|Bur) + P(J|\\neg Al)P(M|\\neg Al)P(\\neg Al|Bur)$ reemplazando los datos en lo hallado:\n",
        "\n",
        "        $P(J,M|Bur) = 0.9 * 0.7 * 0.94 + 0.05 * 0.01 * 0.06 = 0.5922$\n",
        "\n",
        "      - Continuamos con $P(J,M)$ por probabilidad condicional se cumple:\n",
        "\n",
        "        $P(J,M) = P(J,M|Bur)P(Bur) + P(J,M|\\neg Bur)P(\\neg Bur)$\n",
        "\n",
        "        hallaremos $P(J,M|\\neg Bur)$ de la misma manera como hallamos $P(J,M|Bur)$, con marginalización y regla de la cadena:\n",
        "\n",
        "        $P(J,M|\\neg Bur) = P(J,M|Al)P(Al|\\neg Bur) + P(J,M|\\neg Al)P(\\neg Al|\\neg Bur)$ por lo que usando la independencia condicional:\n",
        "\n",
        "        $P(J,M|\\neg Bur) = P(J|Al)P(M|Al)P(Al|\\neg Bur) + P(J|\\neg Al)P(M|\\neg Al)P(\\neg Al|\\neg Bur)$ antes de reemplazar los datos necesitamos hallar $P(Al|\\neg Bur)$:\n",
        "\n",
        "          - $P(Al|\\neg Bur) = P(Al|\\neg Bur,Ear)P(Ear) + P(Al|\\neg Bur,\\neg Ear)P(\\neg Ear)$ reemplazando los datos:\n",
        "            $P(Al|\\neg Bur) = 0.29 * 0.002 + 0.001 * 0.998 = 0.00158 $\n",
        "\n",
        "        Entonces, ahora si podemos reemplazar los datos para hallar $P(J,M|\\neg Bur)$, por lo que:\n",
        "\n",
        "        $P(J,M|\\neg Bur) = 0.9 * 0.7 * 0.00158 + 0.05 * 0.01 * 0.998 = 0.00149$\n",
        "\n",
        "      Ahora si reemplazamos en $P(J,M) = P(J,M|Bur)P(Bur) + P(J,M|\\neg Bur)P(\\neg Bur)$\n",
        "\n",
        "      $P(J,M) = 0.5922 * 0.001 + 0.00149 * 0.999 = 0.00208$\n",
        "\n",
        "    Finalmente Reemplazamos $P(J,M|Bur)$ y $P(J,M)$ en el teorema de bayes obtenido en el calculo de $P(Bur|J,M)$, entonces:\n",
        "\n",
        "    $P(Bur|J,M) = \\frac{P(J,M|Bur)P(Bur)}{P(J,M)} = \\frac{0.5922 * 0.001}{0.00208} = 0.284$\n",
        "\n",
        "* **Muestra que las variables $J$ y $M$ no son independientes.**\n",
        "\n",
        "    Las variables $J$ y $M$ son independientes si se cumple:\n",
        "\n",
        "    $P(J,M) = P(J)P(M)$ sin embargo\n",
        "\n",
        "    $P(J,M) = 0.00208$  por el ítem anterior y \n",
        "\n",
        "    $P(J)P(M) = 0.052 * 0.0117 = 0.00061$, con ello estamos observando que:\n",
        "\n",
        "    $P(J,M) \\neq P(J)P(M)$\n",
        "\n",
        "    Por lo tanto las variables $J$ y $M$ no son independientes\n",
        " \n",
        "* **Replica el cuaderno de la librería `pgmpy`, grafica el modelo Bayesiano del ejemplo de alarma, incluyendo las CPT y la verificación del modelo (debes mostrar `True`).**"
      ],
      "id": "l_b9F6o5lRg0"
    },
    {
      "cell_type": "code",
      "metadata": {
        "id": "N41TZYf-KTOf",
        "colab": {
          "base_uri": "https://localhost:8080/",
          "height": 0
        },
        "outputId": "86ff3982-947d-4163-835a-0b0b6e86b83e"
      },
      "source": [
        "### Tus respuestas\n",
        "!pip install pgmpy  #instalamos pgmpy para trabajar con los modelos bayesianos"
      ],
      "id": "N41TZYf-KTOf",
      "execution_count": 2,
      "outputs": [
        {
          "output_type": "stream",
          "name": "stdout",
          "text": [
            "Collecting pgmpy\n",
            "  Downloading pgmpy-0.1.16-py3-none-any.whl (1.9 MB)\n",
            "\u001b[K     |████████████████████████████████| 1.9 MB 4.3 MB/s \n",
            "\u001b[?25hRequirement already satisfied: pandas in /usr/local/lib/python3.7/dist-packages (from pgmpy) (1.1.5)\n",
            "Requirement already satisfied: pyparsing in /usr/local/lib/python3.7/dist-packages (from pgmpy) (2.4.7)\n",
            "Requirement already satisfied: joblib in /usr/local/lib/python3.7/dist-packages (from pgmpy) (1.0.1)\n",
            "Requirement already satisfied: scipy in /usr/local/lib/python3.7/dist-packages (from pgmpy) (1.4.1)\n",
            "Requirement already satisfied: networkx in /usr/local/lib/python3.7/dist-packages (from pgmpy) (2.6.3)\n",
            "Requirement already satisfied: tqdm in /usr/local/lib/python3.7/dist-packages (from pgmpy) (4.62.3)\n",
            "Requirement already satisfied: statsmodels in /usr/local/lib/python3.7/dist-packages (from pgmpy) (0.10.2)\n",
            "Requirement already satisfied: numpy in /usr/local/lib/python3.7/dist-packages (from pgmpy) (1.19.5)\n",
            "Requirement already satisfied: scikit-learn in /usr/local/lib/python3.7/dist-packages (from pgmpy) (0.22.2.post1)\n",
            "Requirement already satisfied: torch in /usr/local/lib/python3.7/dist-packages (from pgmpy) (1.9.0+cu111)\n",
            "Requirement already satisfied: pytz>=2017.2 in /usr/local/lib/python3.7/dist-packages (from pandas->pgmpy) (2018.9)\n",
            "Requirement already satisfied: python-dateutil>=2.7.3 in /usr/local/lib/python3.7/dist-packages (from pandas->pgmpy) (2.8.2)\n",
            "Requirement already satisfied: six>=1.5 in /usr/local/lib/python3.7/dist-packages (from python-dateutil>=2.7.3->pandas->pgmpy) (1.15.0)\n",
            "Requirement already satisfied: patsy>=0.4.0 in /usr/local/lib/python3.7/dist-packages (from statsmodels->pgmpy) (0.5.2)\n",
            "Requirement already satisfied: typing-extensions in /usr/local/lib/python3.7/dist-packages (from torch->pgmpy) (3.7.4.3)\n",
            "Installing collected packages: pgmpy\n",
            "Successfully installed pgmpy-0.1.16\n"
          ]
        }
      ]
    },
    {
      "cell_type": "markdown",
      "metadata": {
        "id": "QrIg01Ln1wvl"
      },
      "source": [
        "Definicion de la estructura del modelo"
      ],
      "id": "QrIg01Ln1wvl"
    },
    {
      "cell_type": "code",
      "metadata": {
        "id": "3NxHfJFW1oGP"
      },
      "source": [
        "import warnings     #usamos warnig para evitar las advertencias\n",
        "warnings.filterwarnings(\"ignore\")\n",
        "\n",
        "from pgmpy.models import BayesianModel #usamos un modelo de pgmpy llamado BayesianModel"
      ],
      "id": "3NxHfJFW1oGP",
      "execution_count": 58,
      "outputs": []
    },
    {
      "cell_type": "markdown",
      "metadata": {
        "id": "OPnGK_bJ2YGO"
      },
      "source": [
        "creando un modelo PGM y agregamos todos los nodos y bordes al modelo"
      ],
      "id": "OPnGK_bJ2YGO"
    },
    {
      "cell_type": "code",
      "metadata": {
        "id": "Z53hfHlP2gGI"
      },
      "source": [
        "G = BayesianModel() #creamos un modelo bayesiano en la variable G\n",
        "\n",
        "G.add_edges_from([(\"Burglary\",\"Alarm\"),(\"Earthquake\",\"Alarm\"),(\"Alarm\",\"John\"),(\"Alarm\",\"Mary\")]) #creamos los bordes para realizar la gráfica "
      ],
      "id": "Z53hfHlP2gGI",
      "execution_count": 57,
      "outputs": []
    },
    {
      "cell_type": "markdown",
      "metadata": {
        "id": "N_RwFsAY4dsr"
      },
      "source": [
        "Dibujamos los nodos y bordes del modelo"
      ],
      "id": "N_RwFsAY4dsr"
    },
    {
      "cell_type": "code",
      "metadata": {
        "colab": {
          "base_uri": "https://localhost:8080/",
          "height": 319
        },
        "id": "pXX3VRuQ4iCe",
        "outputId": "ef51adf5-a39e-4383-f7c2-9ee6ae0e05dc"
      },
      "source": [
        "import networkx as nx   #importamos networkx para construir el grafo\n",
        "import matplotlib.pyplot as plt\n",
        "\n",
        "nx.draw(G, with_labels = True , node_size = 2000, node_color = \"pink\", linewidths=1)\n",
        "plt.show() "
      ],
      "id": "pXX3VRuQ4iCe",
      "execution_count": 51,
      "outputs": [
        {
          "output_type": "display_data",
          "data": {
            "image/png": "[encoded data removed]",
            "text/plain": [
              "<Figure size 432x288 with 1 Axes>"
            ]
          },
          "metadata": {}
        }
      ]
    },
    {
      "cell_type": "markdown",
      "metadata": {
        "id": "wZxixD1w5uit"
      },
      "source": [
        "Definicion de las CPD"
      ],
      "id": "wZxixD1w5uit"
    },
    {
      "cell_type": "code",
      "metadata": {
        "id": "Ifu0t3bm5xBR"
      },
      "source": [
        "from pgmpy.factors.discrete.CPD import TabularCPD   #definimos las cpds"
      ],
      "id": "Ifu0t3bm5xBR",
      "execution_count": 52,
      "outputs": []
    },
    {
      "cell_type": "code",
      "metadata": {
        "id": "uBSDwB_d58C5"
      },
      "source": [
        "cpd_burglary = TabularCPD('Burglary',2,values=[[0.001],[0.999]])\n",
        "\n",
        "cpd_earthquake = TabularCPD('Earthquake',2,values=[[0.002],[0.998]])\n",
        "\n",
        "cpd_alarm = TabularCPD(variable = 'Alarm' , variable_card= 2, values= [[0.95, 0.94, 0.29, 0.001],[0.05, 0.06, 0.71, 0.999]], evidence= ['Burglary', 'Earthquake'], evidence_card =[2, 2])\n",
        "\n",
        "cpd_john = TabularCPD('John',2,values=[[0.90,0.05],[0.1,0.95]],evidence=['Alarm'],evidence_card=[2])\n",
        "\n",
        "cpd_mary = TabularCPD('Mary',2,values=[[0.70,0.01],[0.30,0.99]],evidence=['Alarm'],evidence_card=[2])"
      ],
      "id": "uBSDwB_d58C5",
      "execution_count": 53,
      "outputs": []
    },
    {
      "cell_type": "markdown",
      "metadata": {
        "id": "6uWYOpdG8Ai4"
      },
      "source": [
        "agregar las CPDs al modelo"
      ],
      "id": "6uWYOpdG8Ai4"
    },
    {
      "cell_type": "code",
      "metadata": {
        "id": "93VAfSZV8DMq"
      },
      "source": [
        "G.add_cpds(cpd_burglary,cpd_earthquake,cpd_alarm,cpd_john,cpd_mary) #agregamos las CPDs al modelo"
      ],
      "id": "93VAfSZV8DMq",
      "execution_count": 54,
      "outputs": []
    },
    {
      "cell_type": "code",
      "metadata": {
        "colab": {
          "base_uri": "https://localhost:8080/",
          "height": 0
        },
        "id": "cWECyJ5cA4sO",
        "outputId": "495cc223-4ca7-4420-d544-a1b9c54a578b"
      },
      "source": [
        "for cpd in G.get_cpds():  #imprimimos las cpds \n",
        "    print(\"\\nCPD de {variable}:\".format(variable=cpd.variable))\n",
        "    print(cpd)"
      ],
      "id": "cWECyJ5cA4sO",
      "execution_count": 55,
      "outputs": [
        {
          "output_type": "stream",
          "name": "stdout",
          "text": [
            "\n",
            "CPD de Burglary:\n",
            "+-------------+-------+\n",
            "| Burglary(0) | 0.001 |\n",
            "+-------------+-------+\n",
            "| Burglary(1) | 0.999 |\n",
            "+-------------+-------+\n",
            "\n",
            "CPD de Earthquake:\n",
            "+---------------+-------+\n",
            "| Earthquake(0) | 0.002 |\n",
            "+---------------+-------+\n",
            "| Earthquake(1) | 0.998 |\n",
            "+---------------+-------+\n",
            "\n",
            "CPD de Alarm:\n",
            "+------------+---------------+---------------+---------------+---------------+\n",
            "| Burglary   | Burglary(0)   | Burglary(0)   | Burglary(1)   | Burglary(1)   |\n",
            "+------------+---------------+---------------+---------------+---------------+\n",
            "| Earthquake | Earthquake(0) | Earthquake(1) | Earthquake(0) | Earthquake(1) |\n",
            "+------------+---------------+---------------+---------------+---------------+\n",
            "| Alarm(0)   | 0.95          | 0.94          | 0.29          | 0.001         |\n",
            "+------------+---------------+---------------+---------------+---------------+\n",
            "| Alarm(1)   | 0.05          | 0.06          | 0.71          | 0.999         |\n",
            "+------------+---------------+---------------+---------------+---------------+\n",
            "\n",
            "CPD de John:\n",
            "+---------+----------+----------+\n",
            "| Alarm   | Alarm(0) | Alarm(1) |\n",
            "+---------+----------+----------+\n",
            "| John(0) | 0.9      | 0.05     |\n",
            "+---------+----------+----------+\n",
            "| John(1) | 0.1      | 0.95     |\n",
            "+---------+----------+----------+\n",
            "\n",
            "CPD de Mary:\n",
            "+---------+----------+----------+\n",
            "| Alarm   | Alarm(0) | Alarm(1) |\n",
            "+---------+----------+----------+\n",
            "| Mary(0) | 0.7      | 0.01     |\n",
            "+---------+----------+----------+\n",
            "| Mary(1) | 0.3      | 0.99     |\n",
            "+---------+----------+----------+\n"
          ]
        }
      ]
    },
    {
      "cell_type": "markdown",
      "metadata": {
        "id": "OZ4M3f768QQS"
      },
      "source": [
        "verifica si los cpds son validos para el modelo"
      ],
      "id": "OZ4M3f768QQS"
    },
    {
      "cell_type": "code",
      "metadata": {
        "id": "-a54OBxC8X3u",
        "colab": {
          "base_uri": "https://localhost:8080/",
          "height": 0
        },
        "outputId": "5333ea6e-f016-47dc-b281-ca78dcd9a6bd"
      },
      "source": [
        "G.check_model()   #verificamos si el modelo está bien hecho."
      ],
      "id": "-a54OBxC8X3u",
      "execution_count": 56,
      "outputs": [
        {
          "output_type": "execute_result",
          "data": {
            "text/plain": [
              "True"
            ]
          },
          "metadata": {},
          "execution_count": 56
        }
      ]
    },
    {
      "cell_type": "markdown",
      "metadata": {
        "id": "cQ1g41RdKTOg"
      },
      "source": [
        "#### Pregunta 3\n",
        "\n",
        "Se te proporciona un modelo de Bayes, que se muestra a continuación, con la etiqueta $Y$ y las características $X_1$ y $X_2$. Las probabilidades condicionales del modelo están parametrizadas por $p_1$, $p_2$ y $q$.\n",
        "\n",
        "![NaiveBayes.png](data:image/png;base64,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)\n",
        "\n",
        "Ten en cuenta que algunos de los parámetros son compartidos (por ejemplo, $P(X_1 = 0|Y = 0)=P(X_1 = 1|Y = 1) = p_1$).\n",
        "\n",
        "\n",
        "Dado un nuevo punto de dato con $X_1 = 1$ y $X_2 = 1$, ¿cuál es la probabilidad de que este punto tenga la etiqueta $Y = 1$? Expresa tu respuesta en términos de los parámetros $p_1$, $p_2$ y $q$ (es posible que no los necesite todos). Es decir debes calcular : $P(Y= 1| X_1= 1,X_2= 1)$."
      ],
      "id": "cQ1g41RdKTOg"
    },
    {
      "cell_type": "markdown",
      "metadata": {
        "id": "FaJgt6k57N2T"
      },
      "source": [
        "\n",
        "\n",
        "---\n",
        "\n",
        "\n",
        "\n",
        "---\n",
        "\n",
        "**Solución:**\n",
        "\n",
        "En el problema nos piden hallar $P(Y = 1|X_{1} = 1, X_{2} = 1)$ que es igual a $P(Y|X_{1},X_{2})$, para solucionar este ejercicio realizamos paso por paso lo aprendido en clase:\n",
        "\n",
        "* Usamos probabilidad condicional:\n",
        "\n",
        "  $P(Y|X_{1},X_{2}) = \\frac{P(Y,X_{1},X_{2})}{P(X_{1},X_{2})}$\n",
        "\n",
        "*  Aqui usamos la marginalización en $P(X_{1},X_{2})$ con respecto a $Y$, dado que $Y$ es el nodo padre de las variables $X_{1} y X_{2}$:\n",
        "\n",
        "  $P(X_{1},X_{2}) = P(Y,X_{1},X_{2}) + P(\\neg Y,X_{1},X_{2})$\n",
        "\n",
        "  Entonces reemplazando en $P(Y|X_{1},X_{2}) = \\frac{P(Y,X_{1},X_{2})}{P(X_{1},X_{2})} = \\frac{P(Y,X_{1},X_{2})}{P(Y,X_{1},X_{2}) + P(\\neg Y,X_{1},X_{2})}$\n",
        "\n",
        "  Dividiendo entre $P(Y,X_{1},X_{2})$ tanto en el numerador y denominador, obtenemos:\n",
        "\n",
        "  $P(Y|X_{1},X_{2}) = \\frac{\\frac{P(Y,X_{1},X_{2})}{P(Y,X_{1},X_{2})}}{\\frac{P(Y,X_{1},X_{2}) + P(\\neg Y,X_{1},X_{2})}{P(Y,X_{1},X_{2})}} = \\frac{1}{\\frac{P(Y,X_{1},X_{2}) + P(\\neg Y,X_{1},X_{2})}{P(Y,X_{1},X_{2})}} = \\frac{1}{1 + \\frac{P(\\neg Y,X_{1},X_{2})}{P(Y,X_{1},X_{2})}}$\n",
        "\n",
        "*  usando la regla de la cadena la expresion $P(Y,X_{1},X{2})$ y $P(\\neg Y,X_{1},X{2})$ sería de la siguiente forma:\n",
        "\n",
        "  - $P(\\neg Y,X_{1},X_{2}) = P(\\neg Y)P(X_{1}| \\neg Y)P(X_{2}|\\neg Y)$ dado que $Y$ es padre de $X_{1}$ y $X_{2}$\n",
        "\n",
        "  - $P(Y,X_{1},X_{2}) = P(Y)P(X_{1}|Y)P(X_{2}|Y)$ dado que $Y$ es padre de $X_{1}$ y $X_{2}$ \n",
        "\n",
        "  reemplazamos lo encontrado en:\n",
        "\n",
        "  $P(Y|X_{1},X_{2}) = \\frac{1}{1 + \\frac{P(\\neg Y,X_{1},X_{2})}{P(Y,X_{1},X_{2})}} = \\frac{1}{1 + \\frac{P(\\neg Y)P(X_{1}| \\neg Y)P(X_{2}|\\neg Y)}{P(Y)P(X_{1}|Y)P(X_{2}|Y)}}$\n",
        "\n",
        "  el cual dando valores sería:\n",
        "\n",
        "  $P(Y=1|X_{1}=1,X_{2}=1)  = \\frac{1}{1 + \\frac{P(Y=0)P(X_{1}=1|Y=0)P(X_{2}=1|Y=0)}{P(Y=1)P(X_{1}=1|Y=1)P(X_{2}=1|Y=1)}}$\n",
        "\n",
        "  con ello, observamos que los valores todas las probabilidades se encuentran en la imagen proporcionada en el problema:\n",
        "\n",
        "  - $P(Y=0) * P(X_{1}=1|Y=0) * P(X_{2}=1|Y=0)  = (1-q) * (1 - p_{1}) * (1 - p_{2}) $\n",
        "\n",
        "  - $P(Y=1)P(X_{1}=1|Y=1)P(X_{2}=1|Y=1) = q * p_{1} * p_{2}$\n",
        "\n",
        "  reemplazando sería:\n",
        "\n",
        "  $P(Y=1|X_{1}=1,X_{2}=1)  = \\frac{1}{1 + \\frac{(1-q) (1 - p_{1}) (1 - p_{2})}{q .  p_{1}  p_{2}}}$\n",
        "\n",
        "  desarrollando $(1-q) (1 - p_{1}) (1 - p_{2}) = 1-p_{1}-p_{2}+p_{1}p_{2}-q+qp_{2}+qp_{1}-qp_{1}p_{2}$, reemplanzado queda:\n",
        "\n",
        "  $P(Y=1|X_{1}=1,X_{2}=1)  = \\frac{p_{1}p_{2}q}{p_{1}p_{2}q + 1-p_{1}-p_{2}+p_{1}p_{2}-q+qp_{2}+qp_{1}-qp_{1}p_{2}}$\n",
        "\n",
        "  $P(Y=1|X_{1}=1,X_{2}=1)  = \\frac{p_{1}p_{2}q}{1-p_{1}-p_{2}+p_{1}p_{2}-q+qp_{2}+qp_{1}}$\n",
        "\n",
        "  finalmente factorizando en denominador $1-p_{1}-p_{2}$ la probabilidad pedida es:\n",
        "\n",
        "  $P(Y=1|X_{1}=1,X_{2}=1)  = \\frac{p_{1}p_{2}q}{(1-p_{1}-p_{2})(1-q)+p_{1}p_{2}}$\n",
        "\n"
      ],
      "id": "FaJgt6k57N2T"
    },
    {
      "cell_type": "code",
      "metadata": {
        "id": "8sNY0iDiKTOh"
      },
      "source": [
        "## Tus respuestas"
      ],
      "id": "8sNY0iDiKTOh",
      "execution_count": null,
      "outputs": []
    },
    {
      "cell_type": "markdown",
      "metadata": {
        "id": "rOmf-K_ZKTOi"
      },
      "source": [
        "\n",
        "#### Pregunta 4\n",
        "\n",
        "Supongamos que eres testigo de un atropello y fuga en una noche que involucró a un taxi en Lima. Todos los taxis en Lima son azules o verdes. Juras, bajo juramento, que el taxi era azul. Pruebas exhaustivas muestran que, en condiciones de poca luz, la discriminación entre azul y verde es un $75%$ fiable.\n",
        "\n",
        "* ¿Es posible calcular el color más probable para el taxi?\n",
        "\n",
        "* ¿Qué pasa si sabe que 9 de cada 10 taxis limeños son verdes? \n",
        "\n"
      ],
      "id": "rOmf-K_ZKTOi"
    },
    {
      "cell_type": "code",
      "metadata": {
        "id": "9875Jf5kKTOk"
      },
      "source": [
        "### Tus respuestas"
      ],
      "id": "9875Jf5kKTOk",
      "execution_count": null,
      "outputs": []
    },
    {
      "cell_type": "code",
      "metadata": {
        "id": "ojnXuTeLKTOm"
      },
      "source": [
        ""
      ],
      "id": "ojnXuTeLKTOm",
      "execution_count": null,
      "outputs": []
    }
  ]
}